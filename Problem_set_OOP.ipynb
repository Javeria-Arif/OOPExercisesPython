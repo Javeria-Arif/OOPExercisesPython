{
  "nbformat": 4,
  "nbformat_minor": 0,
  "metadata": {
    "colab": {
      "name": "Problem set OOP",
      "provenance": [],
      "collapsed_sections": [],
      "authorship_tag": "ABX9TyOwgws5KTcgxkEu0SpS0FHC",
      "include_colab_link": true
    },
    "kernelspec": {
      "name": "python3",
      "display_name": "Python 3"
    },
    "language_info": {
      "name": "python"
    }
  },
  "cells": [
    {
      "cell_type": "markdown",
      "metadata": {
        "id": "view-in-github",
        "colab_type": "text"
      },
      "source": [
        "<a href=\"https://colab.research.google.com/github/Javeria-Arif/OOPExercisesPython/blob/main/Problem_set_OOP.ipynb\" target=\"_parent\"><img src=\"https://colab.research.google.com/assets/colab-badge.svg\" alt=\"Open In Colab\"/></a>"
      ]
    },
    {
      "cell_type": "markdown",
      "source": [
        "Imagine a tollbooth at a bridge. Cars passing by the booth are expected to pay a Rs. 50 toll. Mostly they do, but sometimes a car goes by without paying. The tollbooth keeps track of the number of cars that have gone by, and of\n",
        "the total amount of money collected. Write code to model this tollbooth with a class called TollBooth having two attributes: to hold the total number of cars, and to hold the total amount of money collected. A constructor initializes\n",
        "both of these to 0. A method called payingCar() increments the car total and adds Rs. 50 to the cash total. Another method, called nopayCar(), increments the car total but adds nothing to the cash total. Finally, a method\n",
        "function called display() displays the two totals. Include a program to test this class. This program should allow the user to select one key to count a paying car, and another to count a nonpaying car; and any other key to print out\n",
        "the total cars and total cash and then exit."
      ],
      "metadata": {
        "id": "pqsopwdJAWdM"
      }
    },
    {
      "cell_type": "code",
      "execution_count": 14,
      "metadata": {
        "colab": {
          "base_uri": "https://localhost:8080/"
        },
        "id": "YJlNkFDF___t",
        "outputId": "a7eb09fd-b2f4-4884-d71c-50161e29b54a"
      },
      "outputs": [
        {
          "output_type": "stream",
          "name": "stdout",
          "text": [
            "Press 1 for paying cars. \n",
            " Press 2 for non paying cars, \n",
            " Press 3 for total cars and total cash1\n",
            "car added & cash paid\n",
            "Press 1 for paying cars. \n",
            " Press 2 for non paying cars, \n",
            " Press 3 for total cars and total cash2\n",
            "car added\n",
            "Press 1 for paying cars. \n",
            " Press 2 for non paying cars, \n",
            " Press 3 for total cars and total cash3\n",
            "The total cash received is 50 and the total number of cars tolled are 2\n"
          ]
        }
      ],
      "source": [
        "class TollBooth:\n",
        "  def __init__(self, ncars, total_cash):\n",
        "    self.ncars = 0\n",
        "    self.cash = 0\n",
        "\n",
        "  def payingCar(self):\n",
        "    self.cash += 50     \n",
        "    self.ncars += 1\n",
        "\n",
        "  def nopayCar(self):\n",
        "    self.ncars += 1\n",
        "\n",
        "  def display(self):\n",
        "    print(\"The total cash received is\", self.cash, \"and the total number of cars tolled are\", self.ncars)\n",
        "\n",
        "tollbooth = TollBooth(0,0)\n",
        "\n",
        "\n",
        "\n",
        "for i in range(3):\n",
        "  press = int(input('Press 1 for paying cars. \\n Press 2 for non paying cars, \\n Press 3 for total cars and total cash'))\n",
        "  if press == 1:\n",
        "    #object.method()\n",
        "    tollbooth.payingCar()\n",
        "    print('car added & cash paid')\n",
        "  if press == 2:\n",
        "    tollbooth.nopayCar()\n",
        "    print('car added')\n",
        "  if press == 3:\n",
        "    tollbooth.display()\n"
      ]
    },
    {
      "cell_type": "markdown",
      "source": [
        "Write code to create a class called Time that has separate member data for hours, minutes, and seconds. Make constructor to initialize these attributes, with 0 being the default value. Add a method to display time in 11:59:59\n",
        "format. Add another method addTime which takes one argument of Time type and add this time to the current time of the self object. Instantiate two objects t1 and t2 to any arbitrary values, display both the objects, add t2 to t1\n",
        "and display the result."
      ],
      "metadata": {
        "id": "5z_s6fAwQwLT"
      }
    },
    {
      "cell_type": "code",
      "source": [
        "class Time:\n",
        "  def __init__(self, h=0,m=0,s=0):\n",
        "    self.hours = h\n",
        "    self.minutes = m\n",
        "    self.seconds = s\n",
        "  \n",
        "  def display_time(self):\n",
        "    \n",
        "    print(self.hours,':',self.minutes,':',self.seconds)\n",
        "    \n",
        "  def add_time(self, t):\n",
        "    self.seconds += t.seconds\n",
        "    if self.seconds >= 60:\n",
        "      self.seconds -= 60\n",
        "      if len(str(self.seconds)) == 1:                          \n",
        "        self.seconds = '0' + str(self.seconds)\n",
        "       \n",
        "       \n",
        "      self.minutes += 1\n",
        "      \n",
        "      \n",
        "    self.minutes += t.minutes \n",
        "    if self.minutes >= 60:\n",
        "      self.minutes -= 60\n",
        "      if len(str(self.minutes)) == 1:     \n",
        "          self.minutes = '0' + str(self.minutes)\n",
        "      self.hours += 1\n",
        "      \n",
        "    self.hours += t.hours\n",
        "    if self.hours >= 24:\n",
        "      self.hours -= 24\n",
        "      if len(str(self.hours)) == 1:\n",
        "          self.hours = '0' + str(self.hours)\n",
        "\n",
        "t1 = Time(15, 25, 30)\n",
        "t1.display_time()\n",
        "t2 = Time(13, 42, 50)\n",
        "t2.display_time()\n",
        "\n",
        "t1.add_time(t2)\n",
        "t1.display_time()"
      ],
      "metadata": {
        "id": "0n0MowqXRzrp",
        "colab": {
          "base_uri": "https://localhost:8080/"
        },
        "outputId": "563833a4-23fc-470e-a5de-752172bedb0e"
      },
      "execution_count": 20,
      "outputs": [
        {
          "output_type": "stream",
          "name": "stdout",
          "text": [
            "15 : 25 : 30\n",
            "13 : 42 : 50\n",
            "05 : 08 : 20\n"
          ]
        }
      ]
    },
    {
      "cell_type": "markdown",
      "source": [
        "In ocean navigation, locations are measured in degrees and minutes of latitude and longitude. Thus if you’re lying off\n",
        "the mouth of Papeete Harbor in Tahiti, your location is 149 degrees 34.8 minutes west longitude, and 17 degrees 31.5\n",
        "minutes south latitude. This is written as 149°34.8’ W, 17°31.5’ S. There are 60 minutes in a degree (an older system\n",
        "also divided a minute into 60 seconds, but the modern approach is to use decimal minutes instead). Longitude is\n",
        "measured from 0 to 180 degrees, east or west from Greenwich, England, to the international dateline in the Pacific.\n",
        "Latitude is measured from 0 to 90 degrees, north or south from the equator to the poles. Write code to create a class\n",
        "Angle that includes three member variables: int for degrees, a float for minutes, and a char for the direction letter\n",
        "(N, S, E, or W). This class can hold either a latitude variable or a longitude variable. Write one method to obtain an\n",
        "angle value (in degrees and minutes) and a direction from the user, and a second to display the angle value in\n",
        "179°59.9’ E format. Also write a three-argument constructor. Write a main program that displays an angle initialized\n",
        "with the constructor, and then, within a loop, allows the user to input any angle value, and then displays the value.\n",
        "You can use the hex character constant ‘\\xF8’, which usually prints a degree (°) symbol"
      ],
      "metadata": {
        "id": "-a71PUMIS5Z9"
      }
    },
    {
      "cell_type": "code",
      "source": [
        "class Angle:\n",
        "  def __init__(self, degrees = 0, minutes = 0, direction = 0):\n",
        "    self.degrees = int(input('Enter Degrees of the ship : '))\n",
        "    self.minutes = float(input('Enter minutes of the ship angle : '))\n",
        "    self.direction = str(input('Enter Directions as N/S/W/E : '))\n",
        "\n",
        "  def display_angle(self):\n",
        "    print('The position of the ship is : ', self.degrees, ' \\N{DEGREE SIGN} ', self.minutes, \" ' \", self.direction)\n",
        "\n",
        "a1 = Angle()\n",
        "a1.display_angle()\n"
      ],
      "metadata": {
        "colab": {
          "base_uri": "https://localhost:8080/"
        },
        "id": "_OOSKnQfTgCR",
        "outputId": "99452cab-7647-4f6a-c9ce-49b498e83aaa"
      },
      "execution_count": 22,
      "outputs": [
        {
          "output_type": "stream",
          "name": "stdout",
          "text": [
            "Enter Degrees of the ship : 120\n",
            "Enter minutes of the ship angle : 10.1\n",
            "Enter Directions as N/S/W/E : S\n",
            "The position of the ship is :  120  °  10.1  '  S\n"
          ]
        }
      ]
    },
    {
      "cell_type": "markdown",
      "source": [
        "Write code to create a class Tracker that includes a data member that holds a serial number for each object created\n",
        "from the class. That is, the first object created will be numbered 1, the second 2, and so on. For this, create a class\n",
        "attribute named count; then, as each object is created, its constructor can examine this count member variable to\n",
        "determine the appropriate serial number for the new object. Add a method that permits an object to report its own\n",
        "serial number. Then write a main program that creates three objects and queries each one about its serial number.\n",
        "They should respond I am object number 2, and so on.\n",
        "\n"
      ],
      "metadata": {
        "id": "74oB1Gi3UEuG"
      }
    },
    {
      "cell_type": "code",
      "source": [
        "class tracker:\n",
        "  count = 0\n",
        "  def __init__(self):\n",
        "      tracker.count += 1\n",
        "      self.serial_number = tracker.count\n",
        "\n",
        "  def report(self):\n",
        "      print('I am object number', self.serial_number)\n",
        "\n",
        "t1 = tracker()\n",
        "t1.report()\n",
        "\n",
        "\n",
        "t4 = tracker()\n",
        "t4.report()\n",
        "\n",
        "t2 = tracker()\n",
        "t2.report()\n",
        "\n",
        "t3 = tracker()\n",
        "t3.report()\n",
        "\n",
        "\n",
        "#print(t1.__dict__, t2.__dict__, t3 .__dict__)"
      ],
      "metadata": {
        "colab": {
          "base_uri": "https://localhost:8080/"
        },
        "id": "EaIgf-rLUILs",
        "outputId": "157ef75e-88a2-46f9-976d-bf85ebcb8dd0"
      },
      "execution_count": 26,
      "outputs": [
        {
          "output_type": "stream",
          "name": "stdout",
          "text": [
            "I am object number 1\n",
            "I am object number 2\n",
            "I am object number 3\n",
            "I am object number 4\n"
          ]
        }
      ]
    },
    {
      "cell_type": "markdown",
      "source": [
        "Create a class called Ship that incorporates a ship’s number and location. Use the approach of problem 14 to\n",
        "number each ship object as it is created. Use two variables of the Angle class from problem 13 to represent the\n",
        "ship’s latitude and longitude. A method of the Ship class should get a position from the user and store it in the\n",
        "object; another should report the serial number and position. Write a main program that creates three ships, asks the\n",
        "user to input the position of each, and then displays each ship’s number and position."
      ],
      "metadata": {
        "id": "ZuGHd7VNUjYn"
      }
    },
    {
      "cell_type": "code",
      "source": [
        "class Ship:\n",
        "  count = 0\n",
        "  def __init__(self):\n",
        "    Ship.count += 1\n",
        "    self.serial_number = Ship.count\n",
        "    self.degrees = int(input('Enter Degrees of the ship angle : '))\n",
        "    self.minutes = float(input('Enter minutes of the ship angle : '))\n",
        "    self.direction = str(input('Enter Directions as N/S/W/E : '))\n",
        "\n",
        "  def display_info(self):\n",
        "    print('The position of the ship is : ', self.degrees, '\\N{DEGREE SIGN}', self.minutes, \"'\" , self.direction)\n",
        "    print('I am ship number', self.serial_number)\n",
        "\n",
        "\n",
        "s1 = Ship()\n",
        "s2 = Ship()\n",
        "\n",
        "s1.display_info()\n",
        "s2.display_info()\n"
      ],
      "metadata": {
        "colab": {
          "base_uri": "https://localhost:8080/"
        },
        "id": "fLVZr_5BUn5a",
        "outputId": "5f72a582-0c0a-49f0-c2b6-330340822289"
      },
      "execution_count": 27,
      "outputs": [
        {
          "output_type": "stream",
          "name": "stdout",
          "text": [
            "Enter Degrees of the ship angle : 120\n",
            "Enter minutes of the ship angle : 32.2\n",
            "Enter Directions as N/S/W/E : W\n",
            "Enter Degrees of the ship angle : 100\n",
            "Enter minutes of the ship angle : 12.1\n",
            "Enter Directions as N/S/W/E : N\n",
            "The position of the ship is :  120 ° 32.2 ' W\n",
            "I am ship number 1\n",
            "The position of the ship is :  100 ° 12.1 ' N\n",
            "I am ship number 2\n"
          ]
        }
      ]
    }
  ]
}